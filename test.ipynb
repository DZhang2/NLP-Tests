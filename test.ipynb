{
 "cells": [
  {
   "cell_type": "code",
   "execution_count": 9,
   "metadata": {},
   "outputs": [
    {
     "name": "stderr",
     "output_type": "stream",
     "text": [
      "Using cache found in /Users/davidzhang/.cache/torch/hub/huggingface_pytorch-transformers_master\n",
      "Using cache found in /Users/davidzhang/.cache/torch/hub/huggingface_pytorch-transformers_master\n"
     ]
    }
   ],
   "source": [
    "import torch\n",
    "torch.hub._validate_not_a_forked_repo=lambda a,b,c: True\n",
    "\n",
    "model = torch.hub.load('huggingface/pytorch-transformers', 'modelForQuestionAnswering', 'bert-large-uncased-whole-word-masking-finetuned-squad')\n",
    "tokenizer = torch.hub.load('huggingface/pytorch-transformers', 'tokenizer', 'bert-large-uncased-whole-word-masking-finetuned-squad')"
   ]
  },
  {
   "cell_type": "code",
   "execution_count": 17,
   "metadata": {},
   "outputs": [
    {
     "name": "stdout",
     "output_type": "stream",
     "text": [
      "('[CLS]', 101)\n",
      "('novak', 19580)\n",
      "('dj', 6520)\n",
      "('##oko', 16366)\n",
      "('##vic', 7903)\n",
      "('is', 2003)\n",
      "('the', 1996)\n",
      "('goat', 13555)\n",
      "('[SEP]', 102)\n",
      "('who', 2040)\n",
      "('is', 2003)\n",
      "('the', 1996)\n",
      "('goat', 13555)\n",
      "('?', 1029)\n",
      "('[SEP]', 102)\n",
      "torch.Size([1, 15])\n",
      "torch.Size([1, 15])\n"
     ]
    }
   ],
   "source": [
    "# The format is paragraph first and then question\n",
    "# text_1 = \"Jim Henson was a puppeteer\"\n",
    "# text_2 = \"Who was Jim Henson?\"\n",
    "text_1 = \"Novak Djokovic is the GOAT\"\n",
    "text_2 = \"Who is the GOAT?\"\n",
    "indexed_tokens = tokenizer.encode(text_1, text_2, add_special_tokens=True)\n",
    "tokens = tokenizer.convert_ids_to_tokens(indexed_tokens)\n",
    "# for token, id in zip(tokens, indexed_tokens):\n",
    "#     print((token, id))\n",
    "sep_idx = indexed_tokens.index(tokenizer.sep_token_id)\n",
    "len_question, len_answer = sep_idx + 1, len(indexed_tokens) - (sep_idx + 1)\n",
    "segment_ids = [0] * len_question + [1] * len_answer\n",
    "segment_tensors = torch.tensor([segment_ids])\n",
    "tokens_tensor = torch.tensor([indexed_tokens])"
   ]
  },
  {
   "cell_type": "code",
   "execution_count": 19,
   "metadata": {},
   "outputs": [
    {
     "name": "stdout",
     "output_type": "stream",
     "text": [
      "novak djokovic\n"
     ]
    }
   ],
   "source": [
    "with torch.no_grad():\n",
    "    out = model(tokens_tensor, token_type_ids=segment_tensors)\n",
    "\n",
    "answer = tokenizer.decode(indexed_tokens[torch.argmax(out.start_logits):torch.argmax(out.end_logits)+1])\n",
    "print(answer)"
   ]
  }
 ],
 "metadata": {
  "interpreter": {
   "hash": "b2f5eae842d098e76e7a97c798d866f49c2398fcd024bfa9dc040d34d364a057"
  },
  "kernelspec": {
   "display_name": "Python 3.9.7 ('nlp')",
   "language": "python",
   "name": "python3"
  },
  "language_info": {
   "codemirror_mode": {
    "name": "ipython",
    "version": 3
   },
   "file_extension": ".py",
   "mimetype": "text/x-python",
   "name": "python",
   "nbconvert_exporter": "python",
   "pygments_lexer": "ipython3",
   "version": "3.9.7"
  },
  "orig_nbformat": 4
 },
 "nbformat": 4,
 "nbformat_minor": 2
}
